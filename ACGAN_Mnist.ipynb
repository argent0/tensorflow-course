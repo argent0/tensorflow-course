{
  "nbformat": 4,
  "nbformat_minor": 0,
  "metadata": {
    "colab": {
      "name": "ACGAN Mnist.ipynb",
      "version": "0.3.2",
      "provenance": [],
      "collapsed_sections": [],
      "include_colab_link": true
    },
    "kernelspec": {
      "name": "python3",
      "display_name": "Python 3"
    },
    "accelerator": "GPU"
  },
  "cells": [
    {
      "cell_type": "markdown",
      "metadata": {
        "id": "view-in-github",
        "colab_type": "text"
      },
      "source": [
        "<a href=\"https://colab.research.google.com/github/argent0/tensorflow-course/blob/master/ACGAN_Mnist.ipynb\" target=\"_parent\"><img src=\"https://colab.research.google.com/assets/colab-badge.svg\" alt=\"Open In Colab\"/></a>"
      ]
    },
    {
      "cell_type": "markdown",
      "metadata": {
        "id": "LcJROjN8zPoD",
        "colab_type": "text"
      },
      "source": [
        "#AcGAN  for MNIST Data"
      ]
    },
    {
      "cell_type": "code",
      "metadata": {
        "id": "4jl8VRz9zTKl",
        "colab_type": "code",
        "colab": {}
      },
      "source": [
        "!pip install -q tensorflow==2.0.0-alpha0"
      ],
      "execution_count": 0,
      "outputs": []
    },
    {
      "cell_type": "code",
      "metadata": {
        "id": "rXkBKkTQzgKx",
        "colab_type": "code",
        "outputId": "fd94c9c0-5160-4b2b-9ac8-e9622baa21bb",
        "colab": {
          "base_uri": "https://localhost:8080/",
          "height": 86
        }
      },
      "source": [
        "from __future__ import absolute_import, division, print_function, unicode_literals\n",
        "\n",
        "import tensorflow as tf\n",
        "from tensorflow import keras\n",
        "from tensorflow.keras import layers\n",
        "\n",
        "import pandas as pd\n",
        "\n",
        "import matplotlib.pyplot as plt\n",
        "\n",
        "from keras.datasets import mnist\n",
        "\n",
        "import numpy as np\n",
        "\n",
        "from collections import defaultdict\n",
        "\n",
        "print(keras.backend.backend())\n",
        "\n",
        "print(tf.__version__)\n",
        "print(keras.__version__)\n",
        "\n",
        "from tensorflow.python.client import device_lib\n",
        "#print(device_lib.list_local_devices())\n",
        "\n",
        "tf.test.gpu_device_name()"
      ],
      "execution_count": 0,
      "outputs": [
        {
          "output_type": "stream",
          "text": [
            "tensorflow\n",
            "1.13.1\n",
            "2.2.4-tf\n"
          ],
          "name": "stdout"
        },
        {
          "output_type": "execute_result",
          "data": {
            "text/plain": [
              "'/device:GPU:0'"
            ]
          },
          "metadata": {
            "tags": []
          },
          "execution_count": 5
        }
      ]
    },
    {
      "cell_type": "code",
      "metadata": {
        "id": "uTzN-Ayf1bYa",
        "colab_type": "code",
        "outputId": "cca24600-3085-464d-f370-4a88ac3fd234",
        "colab": {
          "base_uri": "https://localhost:8080/",
          "height": 52
        }
      },
      "source": [
        "# Load the Mnist dataset\n",
        "\n",
        "(x_train, y_train), (x_test, y_test) = mnist.load_data()"
      ],
      "execution_count": 0,
      "outputs": [
        {
          "output_type": "stream",
          "text": [
            "Downloading data from https://s3.amazonaws.com/img-datasets/mnist.npz\n",
            "11493376/11490434 [==============================] - 1s 0us/step\n"
          ],
          "name": "stdout"
        }
      ]
    },
    {
      "cell_type": "code",
      "metadata": {
        "id": "pfzWcPzB2YpG",
        "colab_type": "code",
        "outputId": "18ff186e-ef34-47d7-c344-b74b7c3c667a",
        "colab": {
          "base_uri": "https://localhost:8080/",
          "height": 286
        }
      },
      "source": [
        "# Display one digit\n",
        "plt.imshow(x_train[2].reshape((28,28)), cmap=plt.cm.gray)\n"
      ],
      "execution_count": 0,
      "outputs": [
        {
          "output_type": "execute_result",
          "data": {
            "text/plain": [
              "<matplotlib.image.AxesImage at 0x7f0a7bcb1d68>"
            ]
          },
          "metadata": {
            "tags": []
          },
          "execution_count": 23
        },
        {
          "output_type": "display_data",
          "data": {
            "image/png": "[encoded data removed]",
            "text/plain": [
              "<Figure size 432x288 with 1 Axes>"
            ]
          },
          "metadata": {
            "tags": []
          }
        }
      ]
    },
    {
      "cell_type": "code",
      "metadata": {
        "id": "E45upwF28nzs",
        "colab_type": "code",
        "outputId": "f51dd82f-6c43-487d-eab0-2e5d8d488da1",
        "colab": {
          "base_uri": "https://localhost:8080/",
          "height": 34
        }
      },
      "source": [
        "# normalize the data\n",
        "x_train = x_train.astype('float32') / 255\n",
        "x_test = x_test.astype('float32') / 255\n",
        "x_test = x_test - 0.5\n",
        "x_train = x_train - 0.5\n",
        "#x_train = x_train.reshape((len(x_train), np.prod(x_train.shape[1:])))\n",
        "#x_test = x_test.reshape((len(x_test), np.prod(x_test.shape[1:])))\n",
        "x_train = np.expand_dims(x_train, axis=-1)\n",
        "x_test = np.expand_dims(x_test, axis=-1)\n",
        "print(x_train.shape)\n",
        "num_train, num_test = x_train.shape[0], x_test.shape[0]"
      ],
      "execution_count": 0,
      "outputs": [
        {
          "output_type": "stream",
          "text": [
            "(60000, 28, 28, 1)\n"
          ],
          "name": "stdout"
        }
      ]
    },
    {
      "cell_type": "markdown",
      "metadata": {
        "id": "oSISqHTy8hzz",
        "colab_type": "text"
      },
      "source": [
        "## The model"
      ]
    },
    {
      "cell_type": "code",
      "metadata": {
        "id": "W-bKv98G8jL3",
        "colab_type": "code",
        "colab": {}
      },
      "source": [
        "np.random.seed(1337)\n",
        "num_classes = 10"
      ],
      "execution_count": 0,
      "outputs": []
    },
    {
      "cell_type": "code",
      "metadata": {
        "id": "ZMBeTYhH-pVk",
        "colab_type": "code",
        "colab": {}
      },
      "source": [
        "# build a generator model\n",
        "def build_generator(latent_size):\n",
        "  # map (z, L) to an image space (...,28, 28, 1)\n",
        "  # where z is the \"noise\" and L is label\n",
        "  cnn = keras.Sequential()\n",
        "  \n",
        "  # from the \"noise\" a 384 blocks of 3 by 3 will be generated\n",
        "  cnn.add(keras.layers.Dense(units= 3 * 3 * 384, input_dim=latent_size, activation='relu'))\n",
        "  cnn.add(keras.layers.Reshape((3,3,384)))\n",
        "  \n",
        "  # the 3x3 blocks are upsampled to 7x7\n",
        "  # 192 such transformations are generated\n",
        "  cnn.add(keras.layers.Conv2DTranspose(filters=192, kernel_size=5,\n",
        "                                      strides=1, padding='valid'\n",
        "                                      , kernel_initializer='glorot_normal'))\n",
        "  \n",
        "  cnn.add(keras.layers.BatchNormalization())\n",
        "  \n",
        "  #upsample to 14x14\n",
        "  cnn.add(keras.layers.Conv2DTranspose(filters=96, kernel_size=5,\n",
        "                                      strides=2, padding='same',\n",
        "                                      activation='relu',\n",
        "                                      kernel_initializer='glorot_normal'))\n",
        "  cnn.add(keras.layers.BatchNormalization())\n",
        "  \n",
        "  # upsample to (28, 28, ...)\n",
        "  cnn.add(keras.layers.Conv2DTranspose(1, 5, strides=2, padding='same',\n",
        "                          activation='tanh',\n",
        "                          kernel_initializer='glorot_normal'))\n",
        "\n",
        "  # this is the z space commonly referred to in GAN papers\n",
        "  latent = keras.layers.Input(shape=(latent_size, ))\n",
        "  \n",
        "  #the label or auxiliary class to guide the image generation\n",
        "  image_class = keras.layers.Input(shape=(1,), dtype='int32')\n",
        "  \n",
        "  # this tensor turns the class into a dense vector (an embedding)\n",
        "  cls = keras.layers.Embedding(input_dim=num_classes, #the vocabulary size\n",
        "                              output_dim= latent_size,\n",
        "                              embeddings_initializer='glorot_normal')(image_class)\n",
        "  \n",
        "  #hadamard produvt between z-space and a class conditional embedding\n",
        "  h = keras.layers.multiply([latent, cls])\n",
        "  \n",
        "  fake_image = cnn(h)\n",
        "  \n",
        "  return keras.Model(inputs=[latent, image_class], outputs=fake_image)\n",
        "  "
      ],
      "execution_count": 0,
      "outputs": []
    },
    {
      "cell_type": "code",
      "metadata": {
        "id": "Kpb2JZLzXx3u",
        "colab_type": "code",
        "colab": {}
      },
      "source": [
        "# build the discriminator\n",
        "\n",
        "def build_discriminator():\n",
        "  # relatively standard conv net\n",
        "  cnn = keras.Sequential()\n",
        "  \n",
        "  cnn.add(keras.layers.Conv2D(filters=32, kernel_size=3,\n",
        "                             padding='same', strides=2\n",
        "                             ,input_shape=(28, 28, 1)))\n",
        "  \n",
        "  cnn.add(keras.layers.LeakyReLU(alpha=0.2))\n",
        "  # allows a gradient when the unit is not active\n",
        "  # f(x) = alpha * x for x < 0, f(x) = x for x >= 0\n",
        "  \n",
        "  cnn.add(keras.layers.Dropout(rate=0.3)) #assing a velue of 0 to 30% of the units, prevents overfitting\n",
        "  \n",
        "  \n",
        "  cnn.add(keras.layers.Conv2D(filters=64, kernel_size=3,\n",
        "                             padding='same', strides=1))\n",
        "  cnn.add(keras.layers.LeakyReLU(alpha=0.2))  \n",
        "  cnn.add(keras.layers.Dropout(rate=0.3))\n",
        "  \n",
        "  cnn.add(keras.layers.Conv2D(filters=128, kernel_size=3,\n",
        "                             padding='same', strides=2))\n",
        "  cnn.add(keras.layers.LeakyReLU(alpha=0.2))  \n",
        "  cnn.add(keras.layers.Dropout(rate=0.3))\n",
        "  \n",
        "  cnn.add(keras.layers.Conv2D(filters=256, kernel_size=3,\n",
        "                             padding='same', strides=1))\n",
        "  cnn.add(keras.layers.LeakyReLU(alpha=0.2))  \n",
        "  cnn.add(keras.layers.Dropout(rate=0.3))\n",
        "  \n",
        "  cnn.add(keras.layers.Flatten())\n",
        "  \n",
        "  \n",
        "  image = keras.layers.Input(shape=(28, 28, 1))\n",
        "  \n",
        "  features = cnn(image)\n",
        "  \n",
        "  # first output (name=generation) is whether or not the discriminator\n",
        "  # thinks the image that is being shown is fake, and the second output\n",
        "  # (name=auxiliary) is the class that the discriminator thinks the image\n",
        "  # belongs to.\n",
        "  fake = keras.layers.Dense(1, activation='sigmoid', name='generation')(features)\n",
        "  aux = keras.layers.Dense(num_classes, activation='softmax', name='auxiliary')(features)\n",
        "  \n",
        "  return keras.Model(inputs=image, outputs=[fake, aux])\n",
        "                           "
      ],
      "execution_count": 0,
      "outputs": []
    },
    {
      "cell_type": "code",
      "metadata": {
        "id": "z-kxkJFQaEPG",
        "colab_type": "code",
        "colab": {}
      },
      "source": [
        "# training the model\n",
        "# some parameters\n",
        "\n",
        "epochs = 100\n",
        "batch_size = 100\n",
        "latent_size = 100\n",
        "\n",
        "adam_lr = 0.0002\n",
        "adam_beta_1 = 0.5\n"
      ],
      "execution_count": 0,
      "outputs": []
    },
    {
      "cell_type": "code",
      "metadata": {
        "id": "e0zBb5_EIpd7",
        "colab_type": "code",
        "outputId": "75577d78-c349-47b4-fe9b-f51b942049b2",
        "colab": {
          "base_uri": "https://localhost:8080/",
          "height": 419
        }
      },
      "source": [
        "# Discriminator model\n",
        "print('Discriminator model:')\n",
        "discriminator = build_discriminator()\n",
        "discriminator.compile(\n",
        "  optimizer=keras.optimizers.Adam(lr=adam_lr, beta_1=adam_beta_1),\n",
        "  loss=['binary_crossentropy', 'sparse_categorical_crossentropy'])\n",
        "discriminator.summary()"
      ],
      "execution_count": 0,
      "outputs": [
        {
          "output_type": "stream",
          "text": [
            "Discriminator model:\n",
            "WARNING:tensorflow:From /usr/local/lib/python3.6/dist-packages/tensorflow/python/ops/resource_variable_ops.py:435: colocate_with (from tensorflow.python.framework.ops) is deprecated and will be removed in a future version.\n",
            "Instructions for updating:\n",
            "Colocations handled automatically by placer.\n",
            "WARNING:tensorflow:From /usr/local/lib/python3.6/dist-packages/tensorflow/python/keras/layers/core.py:143: calling dropout (from tensorflow.python.ops.nn_ops) with keep_prob is deprecated and will be removed in a future version.\n",
            "Instructions for updating:\n",
            "Please use `rate` instead of `keep_prob`. Rate should be set to `rate = 1 - keep_prob`.\n",
            "__________________________________________________________________________________________________\n",
            "Layer (type)                    Output Shape         Param #     Connected to                     \n",
            "==================================================================================================\n",
            "input_1 (InputLayer)            (None, 28, 28, 1)    0                                            \n",
            "__________________________________________________________________________________________________\n",
            "sequential (Sequential)         (None, 12544)        387840      input_1[0][0]                    \n",
            "__________________________________________________________________________________________________\n",
            "generation (Dense)              (None, 1)            12545       sequential[1][0]                 \n",
            "__________________________________________________________________________________________________\n",
            "auxiliary (Dense)               (None, 10)           125450      sequential[1][0]                 \n",
            "==================================================================================================\n",
            "Total params: 525,835\n",
            "Trainable params: 525,835\n",
            "Non-trainable params: 0\n",
            "__________________________________________________________________________________________________\n"
          ],
          "name": "stdout"
        }
      ]
    },
    {
      "cell_type": "code",
      "metadata": {
        "id": "PRyrGuiLJLdE",
        "colab_type": "code",
        "colab": {}
      },
      "source": [
        "# generator\n",
        "generator = build_generator(latent_size)"
      ],
      "execution_count": 0,
      "outputs": []
    },
    {
      "cell_type": "code",
      "metadata": {
        "id": "xkOfZEKmJU-x",
        "colab_type": "code",
        "outputId": "352f6929-0948-419c-f246-2b1026a02446",
        "colab": {
          "base_uri": "https://localhost:8080/",
          "height": 295
        }
      },
      "source": [
        "# Combined model\n",
        "\n",
        "latent = keras.layers.Input(shape=(latent_size,))\n",
        "image_class = keras.layers.Input(shape=(1,), dtype='int32')\n",
        "\n",
        "# the fake image \"tensor\"\n",
        "fake = generator([latent, image_class])\n",
        "\n",
        "# only train the generation *for the combined model*\n",
        "discriminator.trainable = False\n",
        "fake, aux = discriminator(fake) #now fake is wether the disc. says it's fake\n",
        "combined = keras.Model([latent, image_class], [fake, aux])\n",
        "\n",
        "combined.compile(\n",
        "  optimizer=keras.optimizers.Adam(lr=adam_lr, beta_1=adam_beta_1),\n",
        "  loss=['binary_crossentropy', 'sparse_categorical_crossentropy'])\n",
        "\n",
        "combined.summary()"
      ],
      "execution_count": 0,
      "outputs": [
        {
          "output_type": "stream",
          "text": [
            "__________________________________________________________________________________________________\n",
            "Layer (type)                    Output Shape         Param #     Connected to                     \n",
            "==================================================================================================\n",
            "input_4 (InputLayer)            (None, 100)          0                                            \n",
            "__________________________________________________________________________________________________\n",
            "input_5 (InputLayer)            (None, 1)            0                                            \n",
            "__________________________________________________________________________________________________\n",
            "model_1 (Model)                 (None, 28, 28, 1)    2657897     input_4[0][0]                    \n",
            "                                                                 input_5[0][0]                    \n",
            "__________________________________________________________________________________________________\n",
            "model (Model)                   [(None, 1), (None, 1 525835      model_1[1][0]                    \n",
            "==================================================================================================\n",
            "Total params: 3,183,732\n",
            "Trainable params: 2,657,321\n",
            "Non-trainable params: 526,411\n",
            "__________________________________________________________________________________________________\n"
          ],
          "name": "stdout"
        }
      ]
    },
    {
      "cell_type": "markdown",
      "metadata": {
        "id": "S2Ob5dzFpkfZ",
        "colab_type": "text"
      },
      "source": [
        "## Training"
      ]
    },
    {
      "cell_type": "code",
      "metadata": {
        "id": "5cqCntJjphLF",
        "colab_type": "code",
        "colab": {}
      },
      "source": [
        "train_history = defaultdict(list)\n",
        "test_history = defaultdict(list)\n",
        "\n",
        "for epoch in range(1, epochs + 1):\n",
        "  print('Epoch {}/{}'.format(epoch, epochs))\n",
        "  \n",
        "  num_batches = int(np.ceil(num_train / float(batch_size)))\n",
        "  \n",
        "  epoch_gen_loss = []\n",
        "  epoch_disc_loss = []\n",
        "  \n",
        "  for index in range(num_batches):\n",
        "    image_batch = x_train[index * batch_size : (index + 1) * batch_size]\n",
        "    label_batch = y_train[index * batch_size : (index + 1) * batch_size]\n",
        "    \n",
        "    # generate some noise\n",
        "    noise = np.random.uniform(-1, 1, (len(image_batch), latent_size))\n",
        "    \n",
        "    # sample som lebels from p_c\n",
        "    sampled_labels = np.random.randint(0, num_classes, len(image_batch))\n",
        "    \n",
        "    # batch of fake images\n",
        "    \n",
        "    generated_images = generator.predict(\n",
        "      [noise, sampled_labels.reshape((-1,1))], verbose=0)\n",
        "    \n",
        "    #plt.imshow(generated_images[0].reshape((28,28)), cmap = plt.cm.gray)\n",
        "    \n",
        "    # the input for the discriminator\n",
        "    x = np.concatenate((image_batch, generated_images))\n",
        "    \n",
        "    # TRICK: use one-sided soft/fake labels\n",
        "    soft_zero, soft_one = 0, 0.95\n",
        "    y = np.array(\n",
        "      [soft_one] * len(image_batch) + [soft_zero] * len(image_batch))\n",
        "    aux_y = np.concatenate((label_batch, sampled_labels), axis=0)\n",
        "    \n",
        "    # the discrimiator does NOT have to maximize the classification accuracy\n",
        "    # of the auxiliaty classifier on generated images. Just discrimination.\n",
        "    \n",
        "    # sample weight of 2 to the real images\n",
        "    disc_sample_weight = [np.ones(2 * len(image_batch)),\n",
        "                         np.concatenate((np.ones(len(image_batch)) * 2,\n",
        "                                        np.zeros(len(image_batch))))]\n",
        "    \n",
        "    # train the discriminator a little\n",
        "    epoch_disc_loss.append(discriminator.train_on_batch(\n",
        "      x, [y, aux_y], sample_weight=disc_sample_weight))\n",
        "    \n",
        "    \n",
        "    # make new noise. 3 * batch_size so we have the generator optimize over an\n",
        "    # identical number of images to the discriminator\n",
        "    noise = np.random.uniform(-1, 1, (2 * len(image_batch), latent_size))\n",
        "    sampled_labels = np.random.randint(0, num_classes, 2 * len(image_batch))\n",
        "    \n",
        "    # we want all the fake/non-fake labels to say non-fake\n",
        "    trick = np.ones(2 * len(image_batch)) * soft_one\n",
        "    \n",
        "    epoch_gen_loss.append(combined.train_on_batch(\n",
        "      [noise, sampled_labels.reshape((-1, 1))],\n",
        "      [trick, sampled_labels]))\n",
        "  \n",
        "    # end batch loop\n",
        "  \n",
        "  # evaluate test loss\n",
        "  print('Testing for epoch {}:'.format(epoch))\n",
        "  \n",
        "  # new batch of noise\n",
        "  noise = np.random.uniform(-1, 1, (num_test, latent_size))\n",
        "  \n",
        "  # sample some labels\n",
        "  sampled_labels = np.random.randint(0, num_classes, num_test)\n",
        "  generated_images = generator.predict(\n",
        "    [noise, sampled_labels.reshape((-1, 1))], verbose=False)\n",
        "  \n",
        "  x = np.concatenate((x_test, generated_images))\n",
        "  y = np.array([1] * num_test + [0] * num_test)\n",
        "  aux_y = np.concatenate((y_test, sampled_labels), axis=0)\n",
        "  \n",
        "  discriminator_test_loss = discriminator.evaluate(\n",
        "    x, [y, aux_y], verbose=False)\n",
        "  \n",
        "  discriminator_train_loss = np.mean(np.array(epoch_disc_loss), axis=0)\n",
        "  \n",
        "  \n",
        "  # generator train/test loss\n",
        "  \n",
        "  noise = np.random.uniform(-1, 1, (2 * num_test, latent_size))\n",
        "  sampled_labels = np.random.randint(0, num_classes, 2 * num_test)\n",
        "  \n",
        "  trick = np.ones(2 * num_test)\n",
        "  \n",
        "  generator_test_loss = combined.evaluate(\n",
        "    [noise, sampled_labels.reshape((-1, 1))],\n",
        "    [trick, sampled_labels], verbose=False)\n",
        "  \n",
        "  generator_train_loss = np.mean(np.array(epoch_gen_loss), axis=0)\n",
        "  \n",
        "  # generate an epoch report on performance\n",
        "  train_history['generator'].append(generator_train_loss)\n",
        "  train_history['discriminator'].append(discriminator_train_loss)\n",
        "\n",
        "  test_history['generator'].append(generator_test_loss)\n",
        "  test_history['discriminator'].append(discriminator_test_loss)\n",
        "\n",
        "  print('{0:<22s} | {1:4s} | {2:15s} | {3:5s}'.format(\n",
        "      'component', *discriminator.metrics_names))\n",
        "  print('-' * 65)\n",
        "  \n",
        "  ROW_FMT = '{0:<22s} | {1:<4.2f} | {2:<15.4f} | {3:<5.4f}'\n",
        "  print(ROW_FMT.format('generator (train)',\n",
        "                       *train_history['generator'][-1]))\n",
        "  print(ROW_FMT.format('generator (test)',\n",
        "                       *test_history['generator'][-1]))\n",
        "  print(ROW_FMT.format('discriminator (train)',\n",
        "                       *train_history['discriminator'][-1]))\n",
        "  print(ROW_FMT.format('discriminator (test)',\n",
        "  *test_history['discriminator'][-1]))\n",
        "    \n",
        "  "
      ],
      "execution_count": 0,
      "outputs": []
    },
    {
      "cell_type": "code",
      "metadata": {
        "id": "7NOeKDwHG_tf",
        "colab_type": "code",
        "outputId": "46752521-265a-464d-bc5a-8c1535dc19fd",
        "colab": {
          "base_uri": "https://localhost:8080/",
          "height": 269
        }
      },
      "source": [
        "# generate digits to display\n",
        "num_rows = 10\n",
        "noise = np.tile(np.random.uniform(-1, 1, (num_rows, latent_size)),\n",
        "                (num_classes, 1))\n",
        "  \n",
        "sampled_labels = np.array([\n",
        "    [i] * num_rows for i in range(num_classes)\n",
        "]).reshape(-1, 1)\n",
        "  \n",
        "# get a batch to display\n",
        "generated_images = generator.predict(\n",
        "  [noise, sampled_labels], verbose=0)\n",
        "  \n",
        "fig, axes = plt.subplots(num_rows, num_classes)\n",
        "img_idx = 0\n",
        "for row in range(num_rows):\n",
        "  for col in range(num_classes):\n",
        "    axes[row, col].imshow(generated_images[img_idx].reshape((28, 28)), cmap=plt.cm.gray)\n",
        "    axes[row, col].axis('off')\n",
        "    img_idx = img_idx + 1"
      ],
      "execution_count": 0,
      "outputs": [
        {
          "output_type": "display_data",
          "data": {
            "image/png": "[encoded data removed]",
            "text/plain": [
              "<Figure size 432x288 with 100 Axes>"
            ]
          },
          "metadata": {
            "tags": []
          }
        }
      ]
    }
  ]
}